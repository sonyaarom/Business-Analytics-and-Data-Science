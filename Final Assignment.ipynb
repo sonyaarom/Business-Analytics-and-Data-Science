{
 "cells": [
  {
   "cell_type": "markdown",
   "metadata": {},
   "source": [
    "# <span style='font-family:\"Times New Roman\"'> <span styel=''> Business Analytics and Data Science: Final Assignment\n",
    "\n",
    "    "
   ]
  },
  {
   "cell_type": "markdown",
   "metadata": {},
   "source": [
    "### <span style='font-family:\"Times New Roman\"'> <span styel=''>Student: #####\n",
    "### <span style='font-family:\"Times New Roman\"'> Sofia #####\n",
    "### <span style='font-family:\"Times New Roman\"'> sofia#####@s#####.de"
   ]
  },
  {
   "cell_type": "markdown",
   "metadata": {
    "id": "X7QoVeEkLD5Z"
   },
   "source": [
    "## <span style='font-family:\"Times New Roman\"'> <span styel=''> I. Introduction\n",
    "  <span style='font-family:\"Times New Roman\"'> <span styel=''>Pat Gelsinger once said: \"Data is the new science. Big Data holds the answers\".(Jeevan, 2021) Being able to manipulate the data, building predictive analytics models can let entrepreneurs affect the competitiveness of the company on the market, and the effectiveness of the company's performance. In this assignment, we were given the task to create a model to understand which items are likely to be returned. This information can optimize the revenue of the company. \n",
    "   \n",
    " <span style='font-family:\"Times New Roman\"'> <span styel=''>**The Jupyter notebook will consist of several steps: exploratory data analysis, data preparation, model tuning and selection, model evaluation, and conclusions.** Also, in this work, several scientific papers and books were used. The whole list will be presented in the section \"References\" at the end of this notebook.\n",
    " "
   ]
  },
  {
   "cell_type": "markdown",
   "metadata": {
    "id": "RfPTX4sCLD5t"
   },
   "source": [
    "## <span style='font-family:\"Times New Roman\"'> <span styel=''>II. Exploratory data analysis\n",
    "<span style='font-family:\"Times New Roman\"'> <span styel=''>EDA is an approach to data analysis that postpones the usual assumptions about what kind of model the data follow with the more direct approach of allowing the data itself to reveal its underlying structure and model. (Ben-Zvi, Garfield and Ben-Zvi, 2004)\n",
    "After the data was received and before data manipulation, it is necessary to analyze the data, to find out what storage capacity is being used, what the data structure and variables are. First of all, we will copy the necessary libraries and will prepare the basis for future plots."
   ]
  },
  {
   "cell_type": "code",
   "execution_count": 1,
   "metadata": {
    "colab": {
     "base_uri": "https://localhost:8080/"
    },
    "collapsed": true,
    "id": "-hPofv-ztGZF",
    "jupyter": {
     "outputs_hidden": true
    },
    "outputId": "34945b54-7a90-4604-cc65-1685e0fd4863"
   },
   "outputs": [
    {
     "name": "stdout",
     "output_type": "stream",
     "text": [
      "Requirement already up-to-date: scikit-learn in /opt/anaconda3/lib/python3.8/site-packages (0.24.2)\n",
      "Requirement already satisfied, skipping upgrade: numpy>=1.13.3 in /opt/anaconda3/lib/python3.8/site-packages (from scikit-learn) (1.19.2)\n",
      "Requirement already satisfied, skipping upgrade: joblib>=0.11 in /opt/anaconda3/lib/python3.8/site-packages (from scikit-learn) (0.17.0)\n",
      "Requirement already satisfied, skipping upgrade: threadpoolctl>=2.0.0 in /opt/anaconda3/lib/python3.8/site-packages (from scikit-learn) (2.1.0)\n",
      "Requirement already satisfied, skipping upgrade: scipy>=0.19.1 in /opt/anaconda3/lib/python3.8/site-packages (from scikit-learn) (1.5.2)\n",
      "Note: you may need to restart the kernel to use updated packages.\n"
     ]
    }
   ],
   "source": [
    "pip install -U scikit-learn\n"
   ]
  },
  {
   "cell_type": "code",
   "execution_count": 2,
   "metadata": {
    "colab": {
     "base_uri": "https://localhost:8080/"
    },
    "collapsed": true,
    "id": "NniXwnlgtGZG",
    "jupyter": {
     "outputs_hidden": true
    },
    "outputId": "4a0158f9-3b3b-4c4f-8ca7-41dcdf8b33e4"
   },
   "outputs": [
    {
     "name": "stdout",
     "output_type": "stream",
     "text": [
      "Requirement already satisfied: seaborn in /opt/anaconda3/lib/python3.8/site-packages (0.11.1)\n",
      "Requirement already satisfied: matplotlib>=2.2 in /opt/anaconda3/lib/python3.8/site-packages (from seaborn) (3.3.2)\n",
      "Requirement already satisfied: scipy>=1.0 in /opt/anaconda3/lib/python3.8/site-packages (from seaborn) (1.5.2)\n",
      "Requirement already satisfied: numpy>=1.15 in /opt/anaconda3/lib/python3.8/site-packages (from seaborn) (1.19.2)\n",
      "Requirement already satisfied: pandas>=0.23 in /opt/anaconda3/lib/python3.8/site-packages (from seaborn) (1.1.3)\n",
      "Requirement already satisfied: certifi>=2020.06.20 in /opt/anaconda3/lib/python3.8/site-packages (from matplotlib>=2.2->seaborn) (2020.12.5)\n",
      "Requirement already satisfied: cycler>=0.10 in /opt/anaconda3/lib/python3.8/site-packages (from matplotlib>=2.2->seaborn) (0.10.0)\n",
      "Requirement already satisfied: kiwisolver>=1.0.1 in /opt/anaconda3/lib/python3.8/site-packages (from matplotlib>=2.2->seaborn) (1.3.0)\n",
      "Requirement already satisfied: python-dateutil>=2.1 in /opt/anaconda3/lib/python3.8/site-packages (from matplotlib>=2.2->seaborn) (2.8.1)\n",
      "Requirement already satisfied: pyparsing!=2.0.4,!=2.1.2,!=2.1.6,>=2.0.3 in /opt/anaconda3/lib/python3.8/site-packages (from matplotlib>=2.2->seaborn) (2.4.7)\n",
      "Requirement already satisfied: pillow>=6.2.0 in /opt/anaconda3/lib/python3.8/site-packages (from matplotlib>=2.2->seaborn) (8.0.1)\n",
      "Requirement already satisfied: pytz>=2017.2 in /opt/anaconda3/lib/python3.8/site-packages (from pandas>=0.23->seaborn) (2020.1)\n",
      "Requirement already satisfied: six in /opt/anaconda3/lib/python3.8/site-packages (from cycler>=0.10->matplotlib>=2.2->seaborn) (1.15.0)\n",
      "Note: you may need to restart the kernel to use updated packages.\n"
     ]
    }
   ],
   "source": [
    "pip install seaborn"
   ]
  },
  {
   "cell_type": "code",
   "execution_count": 3,
   "metadata": {
    "colab": {
     "base_uri": "https://localhost:8080/",
     "height": 593
    },
    "collapsed": true,
    "id": "dwJw94VyLD5u",
    "jupyter": {
     "outputs_hidden": true
    },
    "outputId": "a85cf203-19c0-4774-9965-429cbeff1016"
   },
   "outputs": [
    {
     "name": "stdout",
     "output_type": "stream",
     "text": [
      "/Users/sofyakonchakova/Desktop/Jupyter notebooks for tutorials and execises-20210402\n"
     ]
    }
   ],
   "source": [
    "import numpy as np\n",
    "import matplotlib.pyplot as plt\n",
    "import pandas as pd \n",
    "from sklearn.model_selection import train_test_split\n",
    "from sklearn import metrics\n",
    "from sklearn.linear_model import LogisticRegression\n",
    "import statsmodels.api as sm\n",
    "from pprint import pprint\n",
    "import seaborn as sns\n",
    "import warnings\n",
    "warnings.filterwarnings(\"ignore\")\n",
    "np.random.seed(888)\n",
    "np.set_printoptions(suppress=True)\n",
    "\n",
    "%matplotlib inline  \n",
    "plt.rcParams[\"figure.figsize\"] = (12,6)\n",
    "\n",
    "import os\n",
    "file = 'BADS_WS2021_known.csv'\n",
    "df = pd.read_csv(file)\n",
    "print(os.getcwd())\n",
    "file_unknown = 'BADS_WS2021_unknown.csv'\n",
    "data_unknown=pd.read_csv(file_unknown)"
   ]
  },
  {
   "cell_type": "markdown",
   "metadata": {
    "id": "myuOC-cHLD5z"
   },
   "source": [
    "<span style='font-family:\"Times New Roman\"'> <span styel=''>The data base was succesfully uploaded. Further steps will be dedicated to the data structure analysis, which includes checking the data classes of the variables, finding out if there are any outliers or missing values. These basic steps are necessary for  researchers to get the understanding of further actions during the data preparation steps. *EDA* is known for capturing and analyzing uncommon data patterns that will be skipped by typical machine learning algorithms. (Why EDA is Crucial for Any Data Science Project? AISmartz, 2019) Also, it is commonly associated with visualization."
   ]
  },
  {
   "cell_type": "code",
   "execution_count": 4,
   "metadata": {
    "colab": {
     "base_uri": "https://localhost:8080/"
    },
    "id": "Q8hhh_YZLD50",
    "outputId": "dd9d898c-58b1-464a-8212-0a255375bb43"
   },
   "outputs": [
    {
     "name": "stdout",
     "output_type": "stream",
     "text": [
      "Dimensionality of the data is (100000, 14)\n",
      "The data set has 100000 cases.\n",
      "The total number of elements is 1400000.\n",
      "<class 'pandas.core.frame.DataFrame'>\n",
      "RangeIndex: 100000 entries, 0 to 99999\n",
      "Data columns (total 14 columns):\n",
      " #   Column         Non-Null Count   Dtype  \n",
      "---  ------         --------------   -----  \n",
      " 0   order_item_id  100000 non-null  int64  \n",
      " 1   order_date     100000 non-null  object \n",
      " 2   delivery_date  90682 non-null   object \n",
      " 3   item_id        100000 non-null  int64  \n",
      " 4   item_size      100000 non-null  object \n",
      " 5   item_color     100000 non-null  object \n",
      " 6   brand_id       100000 non-null  int64  \n",
      " 7   item_price     100000 non-null  float64\n",
      " 8   user_id        100000 non-null  int64  \n",
      " 9   user_title     100000 non-null  object \n",
      " 10  user_dob       91275 non-null   object \n",
      " 11  user_state     100000 non-null  object \n",
      " 12  user_reg_date  100000 non-null  object \n",
      " 13  return         100000 non-null  int64  \n",
      "dtypes: float64(1), int64(5), object(8)\n",
      "memory usage: 10.7+ MB\n"
     ]
    }
   ],
   "source": [
    "print('Dimensionality of the data is {}'.format(df.shape))  \n",
    "print('The data set has {} cases.'.format(df.shape[0]))     \n",
    "print('The total number of elements is {}.'.format(df.size))\n",
    "df.info()"
   ]
  },
  {
   "cell_type": "markdown",
   "metadata": {
    "id": "yJX77Db3LD52"
   },
   "source": [
    "<span style='font-family:\"Times New Roman\"'> <span styel=''>This data set consists of 14 variables: 13 of them are independent. The variable \"return\" is a dependent variable. Big amoint of variables consist of character values. The approach to interpreting this variables will be observed later. The data set has quite a big size (10.7+ MB). Before moving forward, it is necessary to seize the size of the data set. For it it is crucial to understand what these variables mean and what approach the researcher should use to manipulate them. Several variables with type \"object\" can be treated as categories and date variables (user_reg_date, user_dob) will be considered as datetime64 values."
   ]
  },
  {
   "cell_type": "code",
   "execution_count": 5,
   "metadata": {
    "colab": {
     "base_uri": "https://localhost:8080/"
    },
    "id": "Oh0GsHJ-LD53",
    "outputId": "d2e1b738-d070-4719-e196-626d79d20132"
   },
   "outputs": [
    {
     "name": "stdout",
     "output_type": "stream",
     "text": [
      "<class 'pandas.core.frame.DataFrame'>\n",
      "RangeIndex: 100000 entries, 0 to 99999\n",
      "Data columns (total 14 columns):\n",
      " #   Column         Non-Null Count   Dtype         \n",
      "---  ------         --------------   -----         \n",
      " 0   order_item_id  100000 non-null  int32         \n",
      " 1   order_date     100000 non-null  object        \n",
      " 2   delivery_date  90682 non-null   object        \n",
      " 3   item_id        100000 non-null  int32         \n",
      " 4   item_size      100000 non-null  category      \n",
      " 5   item_color     100000 non-null  category      \n",
      " 6   brand_id       100000 non-null  int32         \n",
      " 7   item_price     100000 non-null  float16       \n",
      " 8   user_id        100000 non-null  int32         \n",
      " 9   user_title     100000 non-null  category      \n",
      " 10  user_dob       91275 non-null   datetime64[ns]\n",
      " 11  user_state     100000 non-null  category      \n",
      " 12  user_reg_date  100000 non-null  datetime64[ns]\n",
      " 13  return         100000 non-null  int16         \n",
      "dtypes: category(4), datetime64[ns](2), float16(1), int16(1), int32(4), object(2)\n",
      "memory usage: 5.4+ MB\n"
     ]
    }
   ],
   "source": [
    "df['order_item_id'] = df['order_item_id'].astype(np.int32)\n",
    "df['item_id'] = df['item_id'].astype(np.int32)\n",
    "df['user_id'] = df['user_id'].astype(np.int32)\n",
    "df['item_size'] = df['item_size'].astype('category')\n",
    "df['item_color'] = df['item_color'].astype('category')\n",
    "df['brand_id'] = df['brand_id'].astype(np.int32)\n",
    "df['item_price'] = df['item_price'].astype(np.float16)\n",
    "df['user_title']=df['user_title'].astype('category')\n",
    "df['user_state']=df['user_state'].astype('category')\n",
    "df['user_dob']=df['user_dob'].astype(np.datetime64)\n",
    "df['user_reg_date']=df['user_reg_date'].astype(np.datetime64)\n",
    "df['return']=df['return'].astype(np.int16)\n",
    "\n",
    "\n",
    "data_unknown['order_item_id'] = data_unknown['order_item_id'].astype(np.int32)\n",
    "data_unknown['item_id'] = data_unknown['item_id'].astype(np.int32)\n",
    "data_unknown['user_id'] = data_unknown['user_id'].astype(np.int32)\n",
    "data_unknown['item_size'] = data_unknown['item_size'].astype('category')\n",
    "data_unknown['item_color'] = data_unknown['item_color'].astype('category')\n",
    "data_unknown['brand_id'] = data_unknown['brand_id'].astype(np.int32)\n",
    "data_unknown['item_price'] = data_unknown['item_price'].astype(np.float16)\n",
    "data_unknown['user_title']=data_unknown['user_title'].astype('category')\n",
    "data_unknown['user_state']=data_unknown['user_state'].astype('category')\n",
    "data_unknown['user_dob']=data_unknown['user_dob'].astype(np.datetime64)\n",
    "data_unknown['user_reg_date']=data_unknown['user_reg_date'].astype(np.datetime64)\n",
    "\n",
    "df.info()"
   ]
  },
  {
   "cell_type": "markdown",
   "metadata": {
    "id": "f9zl65gQLD54"
   },
   "source": [
    "<span style='font-family:\"Times New Roman\"'> <span styel=''>The storage capacity of data seized to 5.7 MB. For now it is enough to continue with data exploration. Let's visualise data using graphic approach."
   ]
  },
  {
   "cell_type": "code",
   "execution_count": 6,
   "metadata": {
    "colab": {
     "base_uri": "https://localhost:8080/",
     "height": 390
    },
    "id": "kVigAH3xLD52",
    "outputId": "41c5ec98-e1a2-45f4-ec6c-7a55eb4eb33a"
   },
   "outputs": [
    {
     "data": {
      "image/png": "[encoded data removed]",
      "text/plain": [
       "<Figure size 864x432 with 6 Axes>"
      ]
     },
     "metadata": {
      "needs_background": "light"
     },
     "output_type": "display_data"
    }
   ],
   "source": [
    "df.hist();"
   ]
  },
  {
   "cell_type": "markdown",
   "metadata": {
    "id": "8jDPRaEVLD52"
   },
   "source": [
    "<span style='font-family:\"Times New Roman\"'> <span styel=''>It is the most basic approach for data visualizatioan and it has several obvious disadvantages. From the histograms above, it is difficult to understand anything - neither distribution, nor if there are outliers in the data set. Also, there are no information about values that can cause under- or over- fitting the model. For this, categorical variables will be analyzed."
   ]
  },
  {
   "cell_type": "code",
   "execution_count": 7,
   "metadata": {
    "colab": {
     "base_uri": "https://localhost:8080/",
     "height": 1000
    },
    "id": "zAW3S6FVLD54",
    "outputId": "0898e8ad-1c04-417a-9011-479b24ce6981"
   },
   "outputs": [
    {
     "data": {
      "image/png": "[encoded data removed]",
      "text/plain": [
       "<Figure size 864x432 with 1 Axes>"
      ]
     },
     "metadata": {
      "needs_background": "light"
     },
     "output_type": "display_data"
    },
    {
     "data": {
      "image/png": "[encoded data removed]",
      "text/plain": [
       "<Figure size 864x432 with 1 Axes>"
      ]
     },
     "metadata": {
      "needs_background": "light"
     },
     "output_type": "display_data"
    },
    {
     "data": {
      "image/png": "[encoded data removed]",
      "text/plain": [
       "<Figure size 864x432 with 1 Axes>"
      ]
     },
     "metadata": {
      "needs_background": "light"
     },
     "output_type": "display_data"
    }
   ],
   "source": [
    "df['item_size'].value_counts().plot(kind='bar')\n",
    "plt.xlabel(\"item sizes\")\n",
    "plt.ylabel(\"frequency\")\n",
    "plt.show()\n",
    "df['item_color'].value_counts().plot(kind='bar')\n",
    "plt.xlabel(\"item colors\")\n",
    "plt.ylabel(\"frequency\")\n",
    "plt.show()\n",
    "df['user_title'].value_counts().plot(kind='bar')\n",
    "plt.xlabel(\"user titles\")\n",
    "plt.ylabel(\"frequency\")\n",
    "plt.show()"
   ]
  },
  {
   "cell_type": "markdown",
   "metadata": {
    "id": "wNvwd8hCLD55"
   },
   "source": [
    "<span style='font-family:\"Times New Roman\"'> <span styel=''>The created graphs show us distribution of categorical variables. What can be noticed:\n",
    "\n",
    "<span style='font-family:\"Times New Roman\"'> <span styel=''> 1. Variable \"item_sizes\" has many levels (e.g. 23, XXL, unisized). Obviously, the online shop does not sell items that have the equal table of size. However, this can influence our model by causing its underfitting when it will come to the training data. This problem will be solved during the data preparation step.\n",
    "        \n",
    "<span style='font-family:\"Times New Roman\"'> <span styel=''> 2. The same situation we have with the variable \"item_color\". Probably, it is possible to simplify it by grouping colors during the data preparation step (e.g. grey = ash color).\n",
    "\n",
    "<span style='font-family:\"Times New Roman\"'> <span styel=''> 3. Most customers are Mrs. That is all.\n",
    "\n",
    "\n",
    "<span style='font-family:\"Times New Roman\"'> <span styel=''> What else can influence customers' decisions towards return of the item? That also can be prices. The next steps will be connected with analysis of the variable \"item_price\" and its distribution. "
   ]
  },
  {
   "cell_type": "code",
   "execution_count": 8,
   "metadata": {
    "colab": {
     "base_uri": "https://localhost:8080/"
    },
    "id": "F_LtP_NxLD55",
    "outputId": "3630b043-fb0d-48a3-a16b-495ad0e8eec8"
   },
   "outputs": [
    {
     "data": {
      "text/plain": [
       "57967      0.0\n",
       "11287      0.0\n",
       "11286      0.0\n",
       "11217      0.0\n",
       "58680      0.0\n",
       "         ...  \n",
       "66906    400.0\n",
       "49210    999.0\n",
       "65019    999.0\n",
       "70148    999.0\n",
       "48479    999.0\n",
       "Name: item_price, Length: 100000, dtype: float16"
      ]
     },
     "execution_count": 8,
     "metadata": {},
     "output_type": "execute_result"
    }
   ],
   "source": [
    "df_sorted = df.sort_values(by=['item_price'])\n",
    "df_sorted['item_price'] = pd.to_numeric(df['item_price'])\n",
    "df_sorted['item_price']"
   ]
  },
  {
   "cell_type": "code",
   "execution_count": 9,
   "metadata": {
    "colab": {
     "base_uri": "https://localhost:8080/",
     "height": 390
    },
    "id": "z8P38ZZwLD55",
    "outputId": "60998d4d-7b96-459d-dedc-4784493b0471"
   },
   "outputs": [
    {
     "data": {
      "image/png": "[encoded data removed]",
      "text/plain": [
       "<Figure size 864x432 with 1 Axes>"
      ]
     },
     "metadata": {
      "needs_background": "light"
     },
     "output_type": "display_data"
    }
   ],
   "source": [
    "a = sns.distplot(df_sorted['item_price'], hist=True, kde=True, \n",
    "             bins=int(200/5), color = 'darkblue', \n",
    "             hist_kws={'edgecolor':'black'},\n",
    "             kde_kws={'linewidth': 4})\n",
    "a.tick_params(labelsize=10)\n",
    "plt.ylabel('Density',fontsize=10)\n",
    "plt.xlabel ('Item Price',fontsize=10)\n",
    "plt.show()"
   ]
  },
  {
   "cell_type": "code",
   "execution_count": 10,
   "metadata": {
    "colab": {
     "base_uri": "https://localhost:8080/",
     "height": 388
    },
    "id": "jkWE0aBhLD56",
    "outputId": "51e97f48-bbe4-4d24-ff55-5663963ae0c1"
   },
   "outputs": [
    {
     "data": {
      "image/png": "[encoded data removed]",
      "text/plain": [
       "<Figure size 864x432 with 1 Axes>"
      ]
     },
     "metadata": {
      "needs_background": "light"
     },
     "output_type": "display_data"
    }
   ],
   "source": [
    "b=sns.barplot(x=df.item_price.value_counts().index, y=df.item_price.value_counts(), orient = 'v')\n",
    "b.tick_params(labelsize=10)\n",
    "plt.ylabel('Frequency',fontsize=10)\n",
    "plt.xlabel ('Item Price',fontsize=10)\n",
    "plt.show()"
   ]
  },
  {
   "cell_type": "markdown",
   "metadata": {
    "id": "yQuA0btZLD56"
   },
   "source": [
    "<span style='font-family:\"Times New Roman\"'> <span styel=''>Variable \"item_price\" can be called normally distributed. Still, we can observe that it is slightly skewed to the left. It is necessary to check outliers and to modify them.\n",
    "The next step will be checking if there are any missing values in the data set.\n"
   ]
  },
  {
   "cell_type": "code",
   "execution_count": 11,
   "metadata": {
    "colab": {
     "base_uri": "https://localhost:8080/",
     "height": 439
    },
    "id": "oxDCdqwyLD57",
    "outputId": "8ea468a2-8d5d-410f-dbcf-d1d8af58c13b"
   },
   "outputs": [
    {
     "data": {
      "image/png": "[encoded data removed]",
      "text/plain": [
       "<Figure size 864x432 with 1 Axes>"
      ]
     },
     "metadata": {
      "needs_background": "light"
     },
     "output_type": "display_data"
    }
   ],
   "source": [
    "df.isnull().sum().sum()\n",
    "import seaborn as sns\n",
    "sns.heatmap(df.isnull(), cbar=False);"
   ]
  },
  {
   "cell_type": "code",
   "execution_count": 12,
   "metadata": {
    "colab": {
     "base_uri": "https://localhost:8080/"
    },
    "id": "6zzU-j3KLD57",
    "outputId": "874434b7-ef80-49d1-b374-b33ca08a43b2"
   },
   "outputs": [
    {
     "data": {
      "text/plain": [
       "18043"
      ]
     },
     "execution_count": 12,
     "metadata": {},
     "output_type": "execute_result"
    }
   ],
   "source": [
    "df.isnull().sum().sum()"
   ]
  },
  {
   "cell_type": "markdown",
   "metadata": {
    "id": "00eNOe_DLD58"
   },
   "source": [
    "<span style='font-family:\"Times New Roman\"'> <span styel=''>Variables \"delivery_date\" and \"user_dob\" contain missing values. The total sum of missing values are 18043. It is important to choose a right approach towards missing values whether it is better to delete or replace them by mean values or by introducing dummy variable. "
   ]
  },
  {
   "cell_type": "markdown",
   "metadata": {
    "id": "MlD8MOr1tGZT"
   },
   "source": [
    "## <span style='font-family:\"Times New Roman\"'> <span styel=''> III. Data preparation"
   ]
  },
  {
   "cell_type": "markdown",
   "metadata": {
    "id": "ufsvccU3LD59"
   },
   "source": [
    "<span style='font-family:\"Times New Roman\"'> <span styel=''>Data are collected for many purposes, not necessarily with machine learning or data mining in mind.  Consequently, there is often a need to identify and extract relevant data for the given analytic purpose.  Every learning system has specific requirements about how data must be presented for analysis and hence data must be transformed to fulfill those requirements.  Further, the selection of the specific data to be analyzed can greatly affect the models that are learned.  For these reasons, data preparation is a critical part of any machine learning exercise, and is often the most time-consuming part of any non-trivial machine learning or data mining project.(Abdallah and Webb, 2017)\n",
    "\n",
    "<span style='font-family:\"Times New Roman\"'> <span styel=''>The data preparation will be performed for this data set. It includes several steps, such as data cleansing, data structuring, data transformation, data splitting and etc. The main goal is to prepare data for future usage and analysis. It should not be difficult to perform data analysis on the beforehand prepared data set. First steps consist of eliminating missing values and outliers, structuring the data to prevent underfitting of the future model"
   ]
  },
  {
   "cell_type": "markdown",
   "metadata": {
    "id": "ceVD0VjHLD59"
   },
   "source": [
    "<span style='font-family:\"Times New Roman\"'> <span styel=''>Starting with the variable \"user_dob\", it is possible to count the mode value and replace missing values with it."
   ]
  },
  {
   "cell_type": "code",
   "execution_count": 13,
   "metadata": {
    "colab": {
     "base_uri": "https://localhost:8080/"
    },
    "id": "F6tlQ8DVLD5-",
    "outputId": "3cb6dd52-9479-4281-fd98-7540900b6eea"
   },
   "outputs": [
    {
     "name": "stdout",
     "output_type": "stream",
     "text": [
      "nothing else left\n",
      "nothing else left\n"
     ]
    },
    {
     "data": {
      "text/plain": [
       "0       1967-09-18\n",
       "1       1967-09-18\n",
       "2       1967-09-18\n",
       "3       1967-09-18\n",
       "4       1967-09-18\n",
       "           ...    \n",
       "49995   1900-11-21\n",
       "49996   1900-11-21\n",
       "49997   1900-11-21\n",
       "49998   1900-11-21\n",
       "49999   1967-10-26\n",
       "Name: user_dob, Length: 50000, dtype: datetime64[ns]"
      ]
     },
     "execution_count": 13,
     "metadata": {},
     "output_type": "execute_result"
    }
   ],
   "source": [
    "df.user_dob.mode()[0]\n",
    "df.user_dob[df.user_dob.isnull() ] = df.user_dob.mode()[0] \n",
    "df.user_dob.head()\n",
    "if df.user_dob.isnull().any() == False and df.user_dob.isnull().any() == False:\n",
    "    print('nothing else left')\n",
    "else:\n",
    "    print('bunch of work ahead')\n",
    "df.user_dob\n",
    "\n",
    "\n",
    "data_unknown.user_dob.mode()[0]\n",
    "data_unknown.user_dob[data_unknown.user_dob.isnull() ] = data_unknown.user_dob.mode()[0]  \n",
    "data_unknown.user_dob.head()\n",
    "if data_unknown.user_dob.isnull().any() == False and data_unknown.user_dob.isnull().any() == False:\n",
    "    print('nothing else left')\n",
    "else:\n",
    "    print('bunch of work ahead')\n",
    "data_unknown.user_dob"
   ]
  },
  {
   "cell_type": "code",
   "execution_count": 14,
   "metadata": {
    "id": "4Ftpm_2JLD5-"
   },
   "outputs": [],
   "source": [
    "import datetime\n",
    "df['user_dob'] = pd.to_datetime(df.user_dob)\n",
    " \n",
    "data_unknown['user_dob'] = pd.to_datetime(data_unknown.user_dob)"
   ]
  },
  {
   "cell_type": "code",
   "execution_count": 15,
   "metadata": {
    "colab": {
     "base_uri": "https://localhost:8080/"
    },
    "id": "aklZsGoFLD5_",
    "outputId": "e9820b71-5cbb-480b-c46c-144d23a9b3a9"
   },
   "outputs": [
    {
     "name": "stdout",
     "output_type": "stream",
     "text": [
      "0        52\n",
      "1        52\n",
      "2        51\n",
      "3        51\n",
      "4        51\n",
      "         ..\n",
      "99995    62\n",
      "99996    62\n",
      "99997    36\n",
      "99998    36\n",
      "99999    47\n",
      "Name: user_dob, Length: 100000, dtype: int64\n"
     ]
    }
   ],
   "source": [
    "born_df = df.user_dob\n",
    "def from_dob_to_age(born):\n",
    "    today = datetime.date.today()\n",
    "    return today.year - born.year - ((today.month, today.day) < (born.month, born.day))\n",
    "user_age_df = df['user_dob'].apply(lambda x: from_dob_to_age(x))\n",
    "\n",
    "\n",
    "#the same for the unknown data \n",
    "born_data_unknown = data_unknown.user_dob\n",
    "def from_dob_to_age(born):\n",
    "    today = datetime.date.today()\n",
    "    return today.year - born.year - ((today.month, today.day) < (born.month, born.day))\n",
    "user_age_data_unknown = data_unknown['user_dob'].apply(lambda x: from_dob_to_age(x))\n",
    "\n",
    "\n",
    "print (user_age_df)"
   ]
  },
  {
   "cell_type": "code",
   "execution_count": 16,
   "metadata": {
    "colab": {
     "base_uri": "https://localhost:8080/"
    },
    "id": "1Lr7QfsnLD5_",
    "outputId": "8fc4f3bc-aad6-48fc-e1c7-7e21849dd302"
   },
   "outputs": [],
   "source": [
    "df['user_age']=user_age_df\n",
    "df = df.drop('user_dob', axis = 1)\n",
    "\n",
    "data_unknown['user_age']=user_age_data_unknown\n",
    "data_unknown = data_unknown.drop('user_dob', axis = 1)"
   ]
  },
  {
   "cell_type": "markdown",
   "metadata": {
    "id": "_CP-SeF_LD5_"
   },
   "source": [
    "<span style='font-family:\"Times New Roman\"'> <span styel=''>To eliminate missing values in the data set in the variable \"user_dob\" simple approach was used. First of all, mode value was counted and missing values were replaced with it. Then, for better understanding, new variable \"user_age\" was introduced. Customers of 47 and 50 will not have a big difference for our model. Let's create age ranges instead. But first, outliers."
   ]
  },
  {
   "cell_type": "code",
   "execution_count": 17,
   "metadata": {
    "colab": {
     "base_uri": "https://localhost:8080/"
    },
    "id": "jG1ll4TjLD6A",
    "outputId": "dc57d8b9-852e-4c1d-8a11-d48b902a1f34"
   },
   "outputs": [
    {
     "data": {
      "text/plain": [
       "count    100000.000000\n",
       "mean         62.109240\n",
       "std          20.913807\n",
       "min           9.000000\n",
       "25%          51.000000\n",
       "50%          57.000000\n",
       "75%          64.000000\n",
       "max         120.000000\n",
       "Name: user_age, dtype: float64"
      ]
     },
     "execution_count": 17,
     "metadata": {},
     "output_type": "execute_result"
    }
   ],
   "source": [
    "df.user_age.describe()"
   ]
  },
  {
   "cell_type": "markdown",
   "metadata": {
    "id": "k-h8uEJzLD6A"
   },
   "source": [
    "<span style='font-family:\"Times New Roman\"'> <span styel=''>According to Google, a theoretical study suggested the maximum human lifespan to be around 125 years using a modified stretched exponential function for human survival curves. Theoretically, the customer at the age of 120 has 5 years more to enjoy buying items from this particular online shop. Though, it is doubtful and it is better to treat such values as outliers."
   ]
  },
  {
   "cell_type": "code",
   "execution_count": 18,
   "metadata": {
    "colab": {
     "base_uri": "https://localhost:8080/",
     "height": 732
    },
    "id": "b00Gql0OLD6A",
    "outputId": "fc657434-9fdd-4d06-c8aa-756ce2a1e18a"
   },
   "outputs": [
    {
     "data": {
      "image/png": "[encoded data removed]",
      "text/plain": [
       "<Figure size 864x432 with 1 Axes>"
      ]
     },
     "metadata": {
      "needs_background": "light"
     },
     "output_type": "display_data"
    }
   ],
   "source": [
    "num_vars = df.select_dtypes(include=\"int64\")\n",
    "half = np.ceil(num_vars.shape[1] / 2).astype(int)  # for cosmetic reasons we split the plots into two rows\n",
    "num_vars.iloc[:, 0:half].plot(kind = 'box', subplots=True);\n"
   ]
  },
  {
   "cell_type": "markdown",
   "metadata": {
    "id": "FiMth773LD6A"
   },
   "source": [
    "<span style='font-family:\"Times New Roman\"'> <span styel=''>Definitely, variable \"user_age\" has bunch of outliers. The approach from the tutorial will be used."
   ]
  },
  {
   "cell_type": "code",
   "execution_count": 19,
   "metadata": {
    "id": "LZOsUg1XLD6B"
   },
   "outputs": [],
   "source": [
    "def outlier_truncation(x, factor=1.5):\n",
    "  \n",
    "    x_new = x.copy()\n",
    "    \n",
    "    IQR = x.quantile(0.75) - x.quantile(0.25) \n",
    "    \n",
    "    upper = x.quantile(0.75) + factor*IQR\n",
    "    lower = x.quantile(0.25) - factor*IQR\n",
    "    \n",
    "    x_new[x < lower] = lower\n",
    "    x_new[x > upper] = upper\n",
    "    \n",
    "    return x_new\n",
    "num_cols_df = [x for x in df.columns if df[x].dtype == 'int64' ]  \n",
    "df[num_cols_df] = df[num_cols_df].apply(outlier_truncation, axis=0, args=(3,))  \n",
    "\n",
    "\n",
    "num_cols_data_unknown = [x for x in data_unknown.columns if data_unknown[x].dtype == 'int64' ]  \n",
    "data_unknown[num_cols_data_unknown] = data_unknown[num_cols_data_unknown].apply(outlier_truncation, axis=0, args=(3,))  "
   ]
  },
  {
   "cell_type": "markdown",
   "metadata": {
    "id": "58zGUQOMLD6B"
   },
   "source": [
    "<span style='font-family:\"Times New Roman\"'> <span styel=''> The maximum value of the variable \"user_age\" has been successfully changed. Another approach to treat this variable is to create age bins. In marketing while defining target group, age ranges are used. It can be the case."
   ]
  },
  {
   "cell_type": "code",
   "execution_count": 20,
   "metadata": {
    "colab": {
     "base_uri": "https://localhost:8080/"
    },
    "id": "oBDiey-9LD6D",
    "outputId": "aeab620d-257a-4cc2-cda3-0aab82bdea17"
   },
   "outputs": [
    {
     "name": "stdout",
     "output_type": "stream",
     "text": [
      "0    (51, 63]\n",
      "1    (51, 63]\n",
      "2    (50, 51]\n",
      "3    (50, 51]\n",
      "4    (50, 51]\n",
      "Name: age_bins, dtype: category\n",
      "Categories (11, interval[int64]): [(10, 20] < (20, 21] < (21, 30] < (30, 31] ... (50, 51] < (51, 63] < (63, 64] < (64, 104]]\n"
     ]
    }
   ],
   "source": [
    "df['age_bins'] = pd.cut(x=df['user_age'], bins=[10,20,21,30,31,40,41,50,51,63,64,104])\n",
    "data_unknown['age_bins'] = pd.cut(x=data_unknown['user_age'], bins=[10,20,21,30,31,40,41,50,51,63,64,104])\n",
    "\n",
    "print(df.age_bins.head())"
   ]
  },
  {
   "cell_type": "code",
   "execution_count": 21,
   "metadata": {
    "colab": {
     "base_uri": "https://localhost:8080/",
     "height": 439
    },
    "id": "637eYlVILD6E",
    "outputId": "621f93db-5b27-47bc-e954-e1e0279a8c83"
   },
   "outputs": [
    {
     "data": {
      "image/png": "[encoded data removed]",
      "text/plain": [
       "<Figure size 864x432 with 1 Axes>"
      ]
     },
     "metadata": {
      "needs_background": "light"
     },
     "output_type": "display_data"
    }
   ],
   "source": [
    "df.isnull().sum().sum()\n",
    "import seaborn as sns\n",
    "sns.heatmap(df.isnull(), cbar=False);"
   ]
  },
  {
   "cell_type": "markdown",
   "metadata": {
    "id": "TJSUUKkRLD6E"
   },
   "source": [
    "<span style='font-family:\"Times New Roman\"'> <span styel=''>For this moment, variable \"user_age\" no longer has missing values. Still, missing values are still exist in the variable 'delivery_date'. If the order was not delivered, no surprise that it was returned. The missing values will be treated by replacing with mode value of the variable. Then, the days spent on delivery will be counted. It can be supposed that longer delivery - higher chance of return of the item."
   ]
  },
  {
   "cell_type": "code",
   "execution_count": 22,
   "metadata": {
    "id": "Oy5kExZvLD6F"
   },
   "outputs": [],
   "source": [
    "df['order_date'] = df['order_date'].astype(np.datetime64)\n",
    "df['delivery_date'] = df['delivery_date'].astype(np.datetime64)\n",
    "\n",
    "data_unknown['order_date'] = data_unknown['order_date'].astype(np.datetime64)\n",
    "data_unknown['delivery_date'] = data_unknown['delivery_date'].astype(np.datetime64)"
   ]
  },
  {
   "cell_type": "code",
   "execution_count": 23,
   "metadata": {
    "id": "fw5q3s_-LD6G"
   },
   "outputs": [],
   "source": [
    "df.delivery_date[df.delivery_date.isnull() ] = df.delivery_date.mode()[0]\n",
    "\n",
    "data_unknown.delivery_date[data_unknown.delivery_date.isnull() ] = data_unknown.delivery_date.mode()[0]"
   ]
  },
  {
   "cell_type": "code",
   "execution_count": 24,
   "metadata": {
    "id": "ti2_3mHaLD6G"
   },
   "outputs": [],
   "source": [
    "days_delivery_df = df.delivery_date - df.order_date\n",
    "days_delivery = data_unknown.delivery_date - data_unknown.order_date"
   ]
  },
  {
   "cell_type": "code",
   "execution_count": 25,
   "metadata": {
    "id": "doCIFMjxLD6G"
   },
   "outputs": [],
   "source": [
    "df['days_delivery'] = days_delivery_df\n",
    "data_unknown['days_delivery'] = days_delivery"
   ]
  },
  {
   "cell_type": "code",
   "execution_count": 26,
   "metadata": {
    "id": "hQt61u5pLD6G"
   },
   "outputs": [],
   "source": [
    "df['days_delivery'] = (df['days_delivery'] / np.timedelta64(1,'D')).astype(int)\n",
    "data_unknown['days_delivery'] = (data_unknown['days_delivery'] / np.timedelta64(1,'D')).astype(int)"
   ]
  },
  {
   "cell_type": "code",
   "execution_count": 27,
   "metadata": {
    "colab": {
     "base_uri": "https://localhost:8080/"
    },
    "id": "9QSEL-IgLD6H",
    "jupyter": {
     "source_hidden": true
    },
    "outputId": "9c48293c-f209-417e-802d-06fe16aba097"
   },
   "outputs": [
    {
     "name": "stdout",
     "output_type": "stream",
     "text": [
      "0           5\n",
      "1          11\n",
      "2           5\n",
      "3           5\n",
      "4           5\n",
      "         ... \n",
      "99995       1\n",
      "99996       1\n",
      "99997   -7925\n",
      "99998   -7925\n",
      "99999      27\n",
      "Name: days_delivery, Length: 100000, dtype: int64\n"
     ]
    }
   ],
   "source": [
    "df.days_delivery.describe()\n",
    "print (df['days_delivery'])"
   ]
  },
  {
   "cell_type": "markdown",
   "metadata": {},
   "source": [
    "<span style='font-family:\"Times New Roman\"'> <span styel=''> Here are the typical outliers. Several dates were from the previous century. That is why, the days count like -7925 is in the values for this variable. Obviously, these values are anomalous. The approach with mode value will be used."
   ]
  },
  {
   "cell_type": "code",
   "execution_count": 28,
   "metadata": {
    "colab": {
     "base_uri": "https://localhost:8080/"
    },
    "id": "A4CSCEICLD6J",
    "outputId": "f143158f-cecb-48ec-ff52-8e90c4f2380d"
   },
   "outputs": [],
   "source": [
    "mode_value=df.days_delivery.mode()\n",
    "df.loc[df['days_delivery']<0,'days_delivery']=mode_value\n",
    "num_cols = [x for x in df.columns if df[x].dtype == 'float64' ]  \n",
    "df[num_cols] = df[num_cols].apply(outlier_truncation, axis=0, args=(3,))  \n",
    "df.days_delivery.describe()\n",
    "\n",
    "data_unknown.loc[data_unknown['days_delivery']<0,'days_delivery']=mode_value\n",
    "num_cols = [x for x in data_unknown.columns if data_unknown[x].dtype == 'float64' ]  \n",
    "data_unknown[num_cols] = data_unknown[num_cols].apply(outlier_truncation, axis=0, args=(3,))  "
   ]
  },
  {
   "cell_type": "code",
   "execution_count": 29,
   "metadata": {
    "colab": {
     "base_uri": "https://localhost:8080/"
    },
    "id": "PP-qH41LLD6J",
    "outputId": "f02b016a-e4c9-4e5d-9819-8c2751908004"
   },
   "outputs": [
    {
     "data": {
      "text/plain": [
       "0"
      ]
     },
     "execution_count": 29,
     "metadata": {},
     "output_type": "execute_result"
    }
   ],
   "source": [
    "df.days_delivery[df.days_delivery.isnull() ] = df.days_delivery.mode()[0]\n",
    "df.isnull().sum().sum()\n",
    "\n",
    "\n",
    "data_unknown.days_delivery[data_unknown.days_delivery.isnull() ] = data_unknown.days_delivery.mode()[0]\n",
    "data_unknown.isnull().sum().sum()"
   ]
  },
  {
   "cell_type": "markdown",
   "metadata": {},
   "source": [
    "<span style='font-family:\"Times New Roman\"'> <span styel=''>  No more missing values in this data set. Assuming that month can influence the returns, new variable will be added to the data set."
   ]
  },
  {
   "cell_type": "code",
   "execution_count": 30,
   "metadata": {
    "colab": {
     "base_uri": "https://localhost:8080/"
    },
    "id": "QBJeLMqxLD6K",
    "outputId": "db2d7eeb-61e5-4cb2-e378-f375ca1fe609"
   },
   "outputs": [
    {
     "name": "stdout",
     "output_type": "stream",
     "text": [
      "<class 'pandas.core.frame.DataFrame'>\n",
      "RangeIndex: 100000 entries, 0 to 99999\n",
      "Data columns (total 15 columns):\n",
      " #   Column         Non-Null Count   Dtype         \n",
      "---  ------         --------------   -----         \n",
      " 0   order_item_id  100000 non-null  int32         \n",
      " 1   item_id        100000 non-null  int32         \n",
      " 2   item_size      100000 non-null  category      \n",
      " 3   item_color     100000 non-null  category      \n",
      " 4   brand_id       100000 non-null  int32         \n",
      " 5   item_price     100000 non-null  float16       \n",
      " 6   user_id        100000 non-null  int32         \n",
      " 7   user_title     100000 non-null  category      \n",
      " 8   user_state     100000 non-null  category      \n",
      " 9   user_reg_date  100000 non-null  datetime64[ns]\n",
      " 10  return         100000 non-null  int16         \n",
      " 11  user_age       100000 non-null  int64         \n",
      " 12  age_bins       100000 non-null  category      \n",
      " 13  days_delivery  100000 non-null  float64       \n",
      " 14  order_month    100000 non-null  int64         \n",
      "dtypes: category(5), datetime64[ns](1), float16(1), float64(1), int16(1), int32(4), int64(2)\n",
      "memory usage: 5.4 MB\n"
     ]
    }
   ],
   "source": [
    "df['order_month'] = df['order_date'].dt.month\n",
    "df = df.drop(columns=['order_date','delivery_date'])\n",
    "\n",
    "data_unknown['order_month'] = data_unknown['order_date'].dt.month\n",
    "data_unknown = data_unknown.drop(columns=['order_date','delivery_date'])\n",
    "df.info()\n"
   ]
  },
  {
   "cell_type": "code",
   "execution_count": 31,
   "metadata": {
    "colab": {
     "base_uri": "https://localhost:8080/"
    },
    "id": "Bz0e0WAaLD6K",
    "outputId": "48c37a72-2da4-49e3-bd5d-af69a181b6bb"
   },
   "outputs": [
    {
     "data": {
      "text/plain": [
       "black          18640\n",
       "blue           10625\n",
       "brown           8734\n",
       "grey            8708\n",
       "red             7264\n",
       "               ...  \n",
       "copper coin        7\n",
       "amethyst           5\n",
       "creme              4\n",
       "avocado            4\n",
       "opal               2\n",
       "Name: item_color, Length: 77, dtype: int64"
      ]
     },
     "execution_count": 31,
     "metadata": {},
     "output_type": "execute_result"
    }
   ],
   "source": [
    "df['item_color'].value_counts()"
   ]
  },
  {
   "cell_type": "markdown",
   "metadata": {
    "id": "Y1B0ToZOLD6M"
   },
   "source": [
    "<span style='font-family:\"Times New Roman\"'> <span styel=''> The variable \"item_color\" has 77 subcategoris and it can definitely cause underfitting of the model. On this step it is compulsory to recode these values in something simpler. Using graph above, the most common categorical values were chosen. Python has feature for creating dictionaries. And it will be used."
   ]
  },
  {
   "cell_type": "code",
   "execution_count": 32,
   "metadata": {
    "colab": {
     "base_uri": "https://localhost:8080/"
    },
    "id": "bjinEdTxLD6M",
    "outputId": "068cd93b-eb50-4080-a710-c118deb1d1b1"
   },
   "outputs": [
    {
     "data": {
      "text/plain": [
       "blue      18888\n",
       "black     18652\n",
       "brown     14390\n",
       "grey      13249\n",
       "red        8368\n",
       "green      8086\n",
       "purple     5740\n",
       "else       4223\n",
       "pink       3516\n",
       "white      3256\n",
       "orange      990\n",
       "yellow      642\n",
       "Name: item_color, dtype: int64"
      ]
     },
     "execution_count": 32,
     "metadata": {},
     "output_type": "execute_result"
    }
   ],
   "source": [
    "item_color_dict = {'anthracite':'grey',\n",
    "                   'petrol': 'blue',\n",
    "                   'ocher':'yellow',\n",
    "                   'aquamarine': 'blue', \n",
    "                   'berry': 'pink', \n",
    "                   'olive':'green', \n",
    "                   'denim': 'blue',\n",
    "                   'dark denim': 'blue'\n",
    "                   ,'ocher':'brown',\n",
    "                   'dark_navy':'blue',\n",
    "                   'nature':'else',\n",
    "                   '?':'else',\n",
    "                  'bordeaux':'red',\n",
    "                  'ash':'grey',\n",
    "                  'aubergine':'purple',\n",
    "                  'mocca':'brown',\n",
    "                  'beige':'brown',\n",
    "                  'stained':'else',\n",
    "                  'turquoise':'else',\n",
    "                  'magenta':'purple',\n",
    "                  'azure':'blue',\n",
    "                  'khaki':'green',\n",
    "                  'pallid':'else',\n",
    "                  'basalt':'grey',\n",
    "                   'curry':'yellow',\n",
    "                  'ecru': 'brown',\n",
    "                  'coral':'red',\n",
    "                  'blau':'blue',\n",
    "                  'ancient':'else',\n",
    "                  'hibiscus':'pink',\n",
    "                  'mahagoni':'red',\n",
    "                  'mint':'blue',\n",
    "                  'striped':'else',\n",
    "                  'silver':'else',\n",
    "                  'fuchsia':'pink',\n",
    "                  'floral':'pink',\n",
    "                  'cognac':'brown',\n",
    "                  'darkblue':'blue',\n",
    "                  'mango':'orange',\n",
    "                  'ivory':'brown',\n",
    "                  'jade':'green',\n",
    "                  'dark oliv':'brown',\n",
    "                  'champagner':'brown',\n",
    "                  'aqua':'blue',\n",
    "                  'gold':'else',\n",
    "                  'dark grey':'grey',\n",
    "                  'habana':'brown',\n",
    "                  'kanel':'else',\n",
    "                  'cobalt blue':'blue',\n",
    "                  'baltic blue':'blue',\n",
    "                  'dark garnet':'red',\n",
    "                  'antique pink':'pink',\n",
    "                  'almond':'brown',\n",
    "                  'brwon':'brown',\n",
    "                  'curied':'else',\n",
    "                  'ebony': 'black',\n",
    "                  'aviator':'else',\n",
    "                  'caramel':'brown',\n",
    "                  'apricot':'orange',\n",
    "                  'terracotta':'red',\n",
    "                  'currant purple':'purple',\n",
    "                  'copper coin':'else',\n",
    "                  'amethyst':'purple',\n",
    "                  'creme':'brown',\n",
    "                  'avocado':'green',\n",
    "                  'opal':'else',\n",
    "                  'navy':'blue',\n",
    "                  'dark navy':'blue',\n",
    "                  'curled':'else'}\n",
    "item_color_dict\n",
    "df = df.replace(dict(item_color=item_color_dict))\n",
    "data_unknown = data_unknown.replace(dict(item_color=item_color_dict))\n",
    "df['item_color'].value_counts()"
   ]
  },
  {
   "cell_type": "markdown",
   "metadata": {},
   "source": [
    "<span style='font-family:\"Times New Roman\"'> <span styel=''> With variable item_size the different will be done. It is easier to count less frequent values and to assign them to the \"Other\". Theoretically, this approach could be used towards colors but for the sake of different approach in assignment, the different one was used."
   ]
  },
  {
   "cell_type": "code",
   "execution_count": 33,
   "metadata": {
    "id": "20q4t3KrLD6N"
   },
   "outputs": [],
   "source": [
    "series = pd.value_counts(df.item_size)\n",
    "mask = (series/series.sum() * 100).lt(1) \n",
    "df['item_size'] = np.where(df['item_size'].isin(series[mask].index),'Other',df['item_size'])\n",
    "new = series[~mask]\n",
    "df.item_size.value_counts()\n",
    "\n",
    "\n",
    "series = pd.value_counts(data_unknown.item_size)\n",
    "mask = (series/series.sum() * 100).lt(1) \n",
    "data_unknown['item_size'] = np.where(data_unknown['item_size'].isin(series[mask].index),'Other',data_unknown['item_size'])"
   ]
  },
  {
   "cell_type": "code",
   "execution_count": 34,
   "metadata": {
    "colab": {
     "base_uri": "https://localhost:8080/",
     "height": 813
    },
    "id": "C8KN-sSSLD6P",
    "outputId": "d0f0e2c1-63ce-4ef6-e1bd-ff95cb634cb6"
   },
   "outputs": [
    {
     "data": {
      "image/png": "[encoded data removed]",
      "text/plain": [
       "<Figure size 864x432 with 1 Axes>"
      ]
     },
     "metadata": {
      "needs_background": "light"
     },
     "output_type": "display_data"
    },
    {
     "data": {
      "image/png": "[encoded data removed]",
      "text/plain": [
       "<Figure size 864x432 with 1 Axes>"
      ]
     },
     "metadata": {
      "needs_background": "light"
     },
     "output_type": "display_data"
    }
   ],
   "source": [
    "df['item_size'].value_counts().plot(kind='bar')\n",
    "plt.xlabel(\"item sizes\")\n",
    "plt.ylabel(\"frequency\")\n",
    "plt.show()\n",
    "df['item_color'].value_counts().plot(kind='bar')\n",
    "plt.xlabel(\"item colors\")\n",
    "plt.ylabel(\"frequency\")\n",
    "plt.show()"
   ]
  },
  {
   "cell_type": "markdown",
   "metadata": {},
   "source": [
    "<span style='font-family:\"Times New Roman\"'> <span styel=''> Item price is an important variable when it comes to online shopping. While the customer may base his final buying decision on the overall benefits offered by the product, he is likely to compare the price with the perceived value of the product to evaluate it That is why,to the variable \"item_price\" outlier truncation will be also applied."
   ]
  },
  {
   "cell_type": "code",
   "execution_count": 35,
   "metadata": {
    "colab": {
     "base_uri": "https://localhost:8080/",
     "height": 287
    },
    "id": "gbrVSBhqLD6N",
    "outputId": "68fe0539-e07e-4098-f346-f33d34557fa0"
   },
   "outputs": [],
   "source": [
    "num_cols = [x for x in df.columns if df[x].dtype == 'float16' ]  \n",
    "df[num_cols] = df[num_cols].apply(outlier_truncation, axis=0, args=(3,))  \n",
    "\n",
    "\n",
    "num_cols = [x for x in data_unknown.columns if data_unknown[x].dtype == 'float16' ]  \n",
    "data_unknown[num_cols] = data_unknown[num_cols].apply(outlier_truncation, axis=0, args=(3,))  \n"
   ]
  },
  {
   "cell_type": "markdown",
   "metadata": {
    "id": "5f4Y68bXLD6O"
   },
   "source": [
    "<span style='font-family:\"Times New Roman\"'> <span styel=''> Now it is crucial to treat variables \"order_item_id\",\"brand_id\",\"user_id\". These variables are crucial if there is a need to define frequency of order and return rate of particular brand/item/customer. Then, the probability of the return for the particular brand/user/item will be counted."
   ]
  },
  {
   "cell_type": "code",
   "execution_count": 36,
   "metadata": {
    "colab": {
     "base_uri": "https://localhost:8080/",
     "height": 543
    },
    "id": "eiKzg7S7LD6P",
    "outputId": "33199fea-183a-4db7-c212-ec6b387596e6"
   },
   "outputs": [
    {
     "data": {
      "text/html": [
       "<div>\n",
       "<style scoped>\n",
       "    .dataframe tbody tr th:only-of-type {\n",
       "        vertical-align: middle;\n",
       "    }\n",
       "\n",
       "    .dataframe tbody tr th {\n",
       "        vertical-align: top;\n",
       "    }\n",
       "\n",
       "    .dataframe thead th {\n",
       "        text-align: right;\n",
       "    }\n",
       "</style>\n",
       "<table border=\"1\" class=\"dataframe\">\n",
       "  <thead>\n",
       "    <tr style=\"text-align: right;\">\n",
       "      <th></th>\n",
       "      <th>order_item_id</th>\n",
       "      <th>item_id</th>\n",
       "      <th>item_size</th>\n",
       "      <th>item_color</th>\n",
       "      <th>brand_id</th>\n",
       "      <th>item_price</th>\n",
       "      <th>user_id</th>\n",
       "      <th>user_title</th>\n",
       "      <th>user_state</th>\n",
       "      <th>user_reg_date</th>\n",
       "      <th>return</th>\n",
       "      <th>user_age</th>\n",
       "      <th>age_bins</th>\n",
       "      <th>days_delivery</th>\n",
       "      <th>order_month</th>\n",
       "      <th>Frequency for user</th>\n",
       "      <th>Frequency for brand</th>\n",
       "    </tr>\n",
       "  </thead>\n",
       "  <tbody>\n",
       "    <tr>\n",
       "      <th>0</th>\n",
       "      <td>1</td>\n",
       "      <td>643</td>\n",
       "      <td>38</td>\n",
       "      <td>blue</td>\n",
       "      <td>30</td>\n",
       "      <td>49.906250</td>\n",
       "      <td>30822</td>\n",
       "      <td>Mrs</td>\n",
       "      <td>Saxony</td>\n",
       "      <td>2016-06-23</td>\n",
       "      <td>0</td>\n",
       "      <td>52</td>\n",
       "      <td>(51, 63]</td>\n",
       "      <td>5.0</td>\n",
       "      <td>6</td>\n",
       "      <td>3</td>\n",
       "      <td>1272</td>\n",
       "    </tr>\n",
       "    <tr>\n",
       "      <th>1</th>\n",
       "      <td>2</td>\n",
       "      <td>337</td>\n",
       "      <td>Other</td>\n",
       "      <td>grey</td>\n",
       "      <td>30</td>\n",
       "      <td>19.953125</td>\n",
       "      <td>30822</td>\n",
       "      <td>Mrs</td>\n",
       "      <td>Saxony</td>\n",
       "      <td>2016-06-23</td>\n",
       "      <td>0</td>\n",
       "      <td>52</td>\n",
       "      <td>(51, 63]</td>\n",
       "      <td>11.0</td>\n",
       "      <td>6</td>\n",
       "      <td>3</td>\n",
       "      <td>1272</td>\n",
       "    </tr>\n",
       "    <tr>\n",
       "      <th>2</th>\n",
       "      <td>3</td>\n",
       "      <td>270</td>\n",
       "      <td>xxl</td>\n",
       "      <td>grey</td>\n",
       "      <td>49</td>\n",
       "      <td>79.875000</td>\n",
       "      <td>30823</td>\n",
       "      <td>Mrs</td>\n",
       "      <td>Baden-Wuerttemberg</td>\n",
       "      <td>2015-03-15</td>\n",
       "      <td>1</td>\n",
       "      <td>51</td>\n",
       "      <td>(50, 51]</td>\n",
       "      <td>5.0</td>\n",
       "      <td>6</td>\n",
       "      <td>17</td>\n",
       "      <td>1733</td>\n",
       "    </tr>\n",
       "    <tr>\n",
       "      <th>3</th>\n",
       "      <td>4</td>\n",
       "      <td>142</td>\n",
       "      <td>xxl</td>\n",
       "      <td>grey</td>\n",
       "      <td>49</td>\n",
       "      <td>99.875000</td>\n",
       "      <td>30823</td>\n",
       "      <td>Mrs</td>\n",
       "      <td>Baden-Wuerttemberg</td>\n",
       "      <td>2015-03-15</td>\n",
       "      <td>0</td>\n",
       "      <td>51</td>\n",
       "      <td>(50, 51]</td>\n",
       "      <td>5.0</td>\n",
       "      <td>6</td>\n",
       "      <td>17</td>\n",
       "      <td>1733</td>\n",
       "    </tr>\n",
       "    <tr>\n",
       "      <th>4</th>\n",
       "      <td>5</td>\n",
       "      <td>561</td>\n",
       "      <td>xxl</td>\n",
       "      <td>grey</td>\n",
       "      <td>3</td>\n",
       "      <td>14.898438</td>\n",
       "      <td>30823</td>\n",
       "      <td>Mrs</td>\n",
       "      <td>Baden-Wuerttemberg</td>\n",
       "      <td>2015-03-15</td>\n",
       "      <td>1</td>\n",
       "      <td>51</td>\n",
       "      <td>(50, 51]</td>\n",
       "      <td>5.0</td>\n",
       "      <td>6</td>\n",
       "      <td>17</td>\n",
       "      <td>11389</td>\n",
       "    </tr>\n",
       "    <tr>\n",
       "      <th>...</th>\n",
       "      <td>...</td>\n",
       "      <td>...</td>\n",
       "      <td>...</td>\n",
       "      <td>...</td>\n",
       "      <td>...</td>\n",
       "      <td>...</td>\n",
       "      <td>...</td>\n",
       "      <td>...</td>\n",
       "      <td>...</td>\n",
       "      <td>...</td>\n",
       "      <td>...</td>\n",
       "      <td>...</td>\n",
       "      <td>...</td>\n",
       "      <td>...</td>\n",
       "      <td>...</td>\n",
       "      <td>...</td>\n",
       "      <td>...</td>\n",
       "    </tr>\n",
       "    <tr>\n",
       "      <th>99995</th>\n",
       "      <td>99996</td>\n",
       "      <td>156</td>\n",
       "      <td>Other</td>\n",
       "      <td>blue</td>\n",
       "      <td>34</td>\n",
       "      <td>29.906250</td>\n",
       "      <td>713</td>\n",
       "      <td>Mrs</td>\n",
       "      <td>Rhineland-Palatinate</td>\n",
       "      <td>2015-02-17</td>\n",
       "      <td>0</td>\n",
       "      <td>62</td>\n",
       "      <td>(51, 63]</td>\n",
       "      <td>1.0</td>\n",
       "      <td>9</td>\n",
       "      <td>4</td>\n",
       "      <td>814</td>\n",
       "    </tr>\n",
       "    <tr>\n",
       "      <th>99996</th>\n",
       "      <td>99997</td>\n",
       "      <td>156</td>\n",
       "      <td>Other</td>\n",
       "      <td>brown</td>\n",
       "      <td>34</td>\n",
       "      <td>29.906250</td>\n",
       "      <td>713</td>\n",
       "      <td>Mrs</td>\n",
       "      <td>Rhineland-Palatinate</td>\n",
       "      <td>2015-02-17</td>\n",
       "      <td>0</td>\n",
       "      <td>62</td>\n",
       "      <td>(51, 63]</td>\n",
       "      <td>1.0</td>\n",
       "      <td>9</td>\n",
       "      <td>4</td>\n",
       "      <td>814</td>\n",
       "    </tr>\n",
       "    <tr>\n",
       "      <th>99997</th>\n",
       "      <td>99998</td>\n",
       "      <td>1832</td>\n",
       "      <td>xxl</td>\n",
       "      <td>black</td>\n",
       "      <td>37</td>\n",
       "      <td>26.906250</td>\n",
       "      <td>47794</td>\n",
       "      <td>Mr</td>\n",
       "      <td>Hamburg</td>\n",
       "      <td>2016-09-10</td>\n",
       "      <td>0</td>\n",
       "      <td>36</td>\n",
       "      <td>(31, 40]</td>\n",
       "      <td>2.0</td>\n",
       "      <td>9</td>\n",
       "      <td>3</td>\n",
       "      <td>4716</td>\n",
       "    </tr>\n",
       "    <tr>\n",
       "      <th>99998</th>\n",
       "      <td>99999</td>\n",
       "      <td>1832</td>\n",
       "      <td>xxl</td>\n",
       "      <td>black</td>\n",
       "      <td>37</td>\n",
       "      <td>26.906250</td>\n",
       "      <td>47794</td>\n",
       "      <td>Mr</td>\n",
       "      <td>Hamburg</td>\n",
       "      <td>2016-09-10</td>\n",
       "      <td>0</td>\n",
       "      <td>36</td>\n",
       "      <td>(31, 40]</td>\n",
       "      <td>2.0</td>\n",
       "      <td>9</td>\n",
       "      <td>3</td>\n",
       "      <td>4716</td>\n",
       "    </tr>\n",
       "    <tr>\n",
       "      <th>99999</th>\n",
       "      <td>100000</td>\n",
       "      <td>1891</td>\n",
       "      <td>Other</td>\n",
       "      <td>pink</td>\n",
       "      <td>47</td>\n",
       "      <td>27.906250</td>\n",
       "      <td>2622</td>\n",
       "      <td>Mrs</td>\n",
       "      <td>Lower Saxony</td>\n",
       "      <td>2015-02-17</td>\n",
       "      <td>0</td>\n",
       "      <td>47</td>\n",
       "      <td>(41, 50]</td>\n",
       "      <td>14.0</td>\n",
       "      <td>9</td>\n",
       "      <td>7</td>\n",
       "      <td>1413</td>\n",
       "    </tr>\n",
       "  </tbody>\n",
       "</table>\n",
       "<p>100000 rows × 17 columns</p>\n",
       "</div>"
      ],
      "text/plain": [
       "       order_item_id  item_id item_size item_color  brand_id  item_price  \\\n",
       "0                  1      643        38       blue        30   49.906250   \n",
       "1                  2      337     Other       grey        30   19.953125   \n",
       "2                  3      270       xxl       grey        49   79.875000   \n",
       "3                  4      142       xxl       grey        49   99.875000   \n",
       "4                  5      561       xxl       grey         3   14.898438   \n",
       "...              ...      ...       ...        ...       ...         ...   \n",
       "99995          99996      156     Other       blue        34   29.906250   \n",
       "99996          99997      156     Other      brown        34   29.906250   \n",
       "99997          99998     1832       xxl      black        37   26.906250   \n",
       "99998          99999     1832       xxl      black        37   26.906250   \n",
       "99999         100000     1891     Other       pink        47   27.906250   \n",
       "\n",
       "       user_id user_title            user_state user_reg_date  return  \\\n",
       "0        30822        Mrs                Saxony    2016-06-23       0   \n",
       "1        30822        Mrs                Saxony    2016-06-23       0   \n",
       "2        30823        Mrs    Baden-Wuerttemberg    2015-03-15       1   \n",
       "3        30823        Mrs    Baden-Wuerttemberg    2015-03-15       0   \n",
       "4        30823        Mrs    Baden-Wuerttemberg    2015-03-15       1   \n",
       "...        ...        ...                   ...           ...     ...   \n",
       "99995      713        Mrs  Rhineland-Palatinate    2015-02-17       0   \n",
       "99996      713        Mrs  Rhineland-Palatinate    2015-02-17       0   \n",
       "99997    47794         Mr               Hamburg    2016-09-10       0   \n",
       "99998    47794         Mr               Hamburg    2016-09-10       0   \n",
       "99999     2622        Mrs          Lower Saxony    2015-02-17       0   \n",
       "\n",
       "       user_age  age_bins  days_delivery  order_month  Frequency for user  \\\n",
       "0            52  (51, 63]            5.0            6                   3   \n",
       "1            52  (51, 63]           11.0            6                   3   \n",
       "2            51  (50, 51]            5.0            6                  17   \n",
       "3            51  (50, 51]            5.0            6                  17   \n",
       "4            51  (50, 51]            5.0            6                  17   \n",
       "...         ...       ...            ...          ...                 ...   \n",
       "99995        62  (51, 63]            1.0            9                   4   \n",
       "99996        62  (51, 63]            1.0            9                   4   \n",
       "99997        36  (31, 40]            2.0            9                   3   \n",
       "99998        36  (31, 40]            2.0            9                   3   \n",
       "99999        47  (41, 50]           14.0            9                   7   \n",
       "\n",
       "       Frequency for brand  \n",
       "0                     1272  \n",
       "1                     1272  \n",
       "2                     1733  \n",
       "3                     1733  \n",
       "4                    11389  \n",
       "...                    ...  \n",
       "99995                  814  \n",
       "99996                  814  \n",
       "99997                 4716  \n",
       "99998                 4716  \n",
       "99999                 1413  \n",
       "\n",
       "[100000 rows x 17 columns]"
      ]
     },
     "execution_count": 36,
     "metadata": {},
     "output_type": "execute_result"
    }
   ],
   "source": [
    "df['Frequency for user']=df['user_id'].replace(df['user_id'].value_counts())\n",
    "df['Frequency for brand']=df['brand_id'].replace(df['brand_id'].value_counts())\n",
    "\n",
    "data_unknown['Frequency for user']=data_unknown['user_id'].replace(data_unknown['user_id'].value_counts())\n",
    "data_unknown['Frequency for brand']=data_unknown['brand_id'].replace(data_unknown['brand_id'].value_counts())\n",
    "\n",
    "df"
   ]
  },
  {
   "cell_type": "code",
   "execution_count": 37,
   "metadata": {
    "colab": {
     "base_uri": "https://localhost:8080/",
     "height": 527
    },
    "id": "ResuYkj_LD6Q",
    "outputId": "d2ebce73-7fef-4702-f90b-e5262c401830"
   },
   "outputs": [],
   "source": [
    "df['Frequency for user']=df['user_id'].replace(df['user_id'].value_counts())\n",
    "df['Frequency for brand']=df['brand_id'].replace(df['brand_id'].value_counts())\n",
    "df['Frequency for item']=df['item_id'].replace(df['item_id'].value_counts())\n",
    "\n",
    "df['return_brand'] = df.groupby('brand_id')['return'].transform('sum') \n",
    "df['return_user'] = df.groupby('user_id')['return'].transform('sum') \n",
    "df['return_item'] = df.groupby('item_id')['return'].transform('sum') \n",
    "\n",
    "df['brand_prob']=(df['return_brand']/df['Frequency for brand'])*100\n",
    "df['item_prob']=(df['return_item']/df['Frequency for item'])*100\n",
    "df['user_prob']=(df['return_user']/df['Frequency for user'])*100\n",
    "\n",
    "df = df.drop('return_brand', axis = 1)\n",
    "df = df.drop('return_item', axis = 1)\n",
    "df = df.drop('return_user', axis = 1)\n",
    "df = df.drop ('Frequency for brand', axis = 1)\n",
    "df = df.drop ('Frequency for item', axis = 1)\n",
    "df = df.drop ('Frequency for user', axis = 1)\n",
    "df = df.drop ('order_item_id', axis = 1)\n",
    "\n",
    "data_unknown = data_unknown.drop ('Frequency for brand', axis = 1)\n",
    "data_unknown = data_unknown.drop ('Frequency for user', axis = 1)\n"
   ]
  },
  {
   "cell_type": "markdown",
   "metadata": {},
   "source": [
    "<span style='font-family:\"Times New Roman\"'> <span styel=''> To choose which of the features to use in our model we should look to the correlation between the variables to see which one affect the most our target variable are the most relevant to build the model. Only correlation less than -0.30 and more than 0.30 is important."
   ]
  },
  {
   "cell_type": "code",
   "execution_count": 38,
   "metadata": {
    "colab": {
     "base_uri": "https://localhost:8080/",
     "height": 868
    },
    "id": "NFG6Cp-4LD6R",
    "outputId": "a20d8814-6217-4206-b763-676d026d91cf"
   },
   "outputs": [
    {
     "data": {
      "image/png": "[encoded data removed]",
      "text/plain": [
       "<Figure size 1296x1080 with 2 Axes>"
      ]
     },
     "metadata": {
      "needs_background": "light"
     },
     "output_type": "display_data"
    }
   ],
   "source": [
    "corr= df.corr()\n",
    "f,ax = plt.subplots(figsize=(18, 15))\n",
    "sns.heatmap(corr[(corr >= 0.30) | (corr <= -0.30)],\n",
    "            annot=True);"
   ]
  },
  {
   "cell_type": "markdown",
   "metadata": {},
   "source": [
    "<span style='font-family:\"Times New Roman\"'> <span styel=''> \n",
    "   Correlation map is a great tool to visualize which variables are correlated regarding to the target variable. These variables will be used for the model, so all other variables with low correlation can be dropped. "
   ]
  },
  {
   "cell_type": "code",
   "execution_count": 39,
   "metadata": {
    "id": "htgEotw0psaF"
   },
   "outputs": [],
   "source": [
    "df.drop('item_size', inplace=True, axis=1)\n",
    "df.drop('item_color', inplace=True, axis=1)\n",
    "df.drop('user_title', inplace=True, axis=1)\n",
    "df.drop('user_state', inplace=True, axis=1)\n",
    "df.drop('user_reg_date', inplace=True, axis=1)\n",
    "df.drop('age_bins', inplace=True, axis=1)\n",
    "\n",
    "\n",
    "data_unknown.drop('item_size', inplace=True, axis=1)\n",
    "data_unknown.drop('item_color', inplace=True, axis=1)\n",
    "data_unknown.drop('user_title', inplace=True, axis=1)\n",
    "data_unknown.drop('user_state', inplace=True, axis=1)\n",
    "data_unknown.drop('user_reg_date', inplace=True, axis=1)\n",
    "data_unknown.drop('age_bins', inplace=True, axis=1)"
   ]
  },
  {
   "cell_type": "markdown",
   "metadata": {
    "id": "7ka5BjNVtGZl"
   },
   "source": [
    "## IV. Model tuning and selection "
   ]
  },
  {
   "cell_type": "markdown",
   "metadata": {},
   "source": [
    "### Model tuning"
   ]
  },
  {
   "cell_type": "markdown",
   "metadata": {
    "id": "mJTvlt_ID-HA"
   },
   "source": [
    "<span style='font-family:\"Times New Roman\"'> <span styel=''> To train model, training and validation sets should be created. Test size will be 30%. "
   ]
  },
  {
   "cell_type": "code",
   "execution_count": 40,
   "metadata": {
    "id": "wwOFLIMQLD6S"
   },
   "outputs": [],
   "source": [
    "from sklearn.model_selection import train_test_split\n",
    "X = df[[\"item_id\",\"brand_id\",\"item_price\",\"user_id\",\"user_age\",\"days_delivery\",\"order_month\"]] \n",
    "y = df['return']\n",
    "x_train, x_valid, y_train, y_valid = train_test_split(X, y,test_size=0.3)"
   ]
  },
  {
   "cell_type": "markdown",
   "metadata": {
    "id": "cQUhBY8-EZ6f"
   },
   "source": [
    "<span style='font-family:\"Times New Roman\"'> <span styel=''> This assignment contains classification problem. The return variable contains binary and discrete value. So, the first model that will be used is a logistic regression which is easily implemented and trained. Still, it is difficult to capture complex relationships using logistic regression. That is why, it is not the only model that will be used."
   ]
  },
  {
   "cell_type": "code",
   "execution_count": 41,
   "metadata": {
    "colab": {
     "base_uri": "https://localhost:8080/"
    },
    "id": "FfNuOJZyo_1l",
    "outputId": "b616cf06-4ecf-412a-e49b-5f06aa32119c"
   },
   "outputs": [
    {
     "name": "stdout",
     "output_type": "stream",
     "text": [
      "              precision    recall  f1-score   support\n",
      "\n",
      "           0       0.57      0.81      0.67     16175\n",
      "           1       0.56      0.28      0.38     13825\n",
      "\n",
      "    accuracy                           0.57     30000\n",
      "   macro avg       0.56      0.55      0.52     30000\n",
      "weighted avg       0.56      0.57      0.53     30000\n",
      "\n",
      "The accuracy on the validation set is : 0.57\n"
     ]
    }
   ],
   "source": [
    "from sklearn.linear_model import LogisticRegression\n",
    "from sklearn.model_selection import GridSearchCV\n",
    "from sklearn.metrics import classification_report, accuracy_score\n",
    "\n",
    "\n",
    "parameter_grid = {\"C\":[0.6, 0.7, 0.8, 0.9, 1]}\n",
    "lr = GridSearchCV(LogisticRegression(), param_grid=parameter_grid,\n",
    "                            n_jobs=-1)\n",
    "lr.fit(x_train, y_train)\n",
    "\n",
    "\n",
    "print(classification_report(y_valid, lr.predict(x_valid)))\n",
    "print(\"The accuracy on the validation set is : {:.2f}\".format(accuracy_score(y_valid, lr.predict(x_valid))))"
   ]
  },
  {
   "cell_type": "markdown",
   "metadata": {},
   "source": [
    "<span style='font-family:\"Times New Roman\"'> <span styel=''> From the course, we know that there are several metrics for the accuracy assessment such as threshold, probability and ranking metrics.Receiver Operating Characteristic (ROC) Curve is a helpful method to estimate the model fit. The ROC curve is created by evaluating the class probabilities for the model across a continuum of thresholds.  Closer it is to the optimal point of (0,1), the better the classifier is and the less it is mistaken."
   ]
  },
  {
   "cell_type": "code",
   "execution_count": 42,
   "metadata": {
    "colab": {
     "base_uri": "https://localhost:8080/",
     "height": 421
    },
    "id": "jdXE3ELM1O3z",
    "outputId": "d59b75ae-730b-41a3-b01f-26c2a56c9748"
   },
   "outputs": [
    {
     "data": {
      "text/plain": [
       "Text(0, 0.5, 'true positive rate')"
      ]
     },
     "execution_count": 42,
     "metadata": {},
     "output_type": "execute_result"
    },
    {
     "data": {
      "image/png": "[encoded data removed]",
      "text/plain": [
       "<Figure size 864x432 with 1 Axes>"
      ]
     },
     "metadata": {
      "needs_background": "light"
     },
     "output_type": "display_data"
    }
   ],
   "source": [
    "y_pred = lr.predict_proba(x_valid)\n",
    "y_pred_up_prod = y_pred[:, 1]\n",
    "\n",
    "y_true = (y_valid == 1).astype(int)\n",
    "\n",
    "fpr_lr, tpr_lr, threshold = metrics.roc_curve(y_true, y_pred_up_prod)\n",
    "\n",
    "plt.plot(fpr_lr, tpr_lr, label='logistic regression')\n",
    "plt.plot((0, 1), (0, 1), label='standard')\n",
    "plt.legend()\n",
    "plt.title(\"ROC\")\n",
    "plt.xlabel(\"false positive rate\")\n",
    "plt.ylabel(\"true positive rate\")"
   ]
  },
  {
   "cell_type": "markdown",
   "metadata": {},
   "source": [
    "<span style='font-family:\"Times New Roman\"'> <span styel=''> Regression model is an important component of the data analysis which is focussed on the estimation of the relation between a response variable and one or several explanatory variables (Hosmer, Lemeshow, 2000). Further steps are to create Lasso regression model and will see if it has higher accuraccy."
   ]
  },
  {
   "cell_type": "code",
   "execution_count": 43,
   "metadata": {
    "colab": {
     "base_uri": "https://localhost:8080/"
    },
    "id": "zl2KypD3LD6W",
    "outputId": "98bee110-18f3-45ed-bd7a-5243ad0d1357"
   },
   "outputs": [
    {
     "name": "stdout",
     "output_type": "stream",
     "text": [
      "              precision    recall  f1-score   support\n",
      "\n",
      "           0       0.56      0.84      0.67     16175\n",
      "           1       0.56      0.24      0.34     13825\n",
      "\n",
      "    accuracy                           0.56     30000\n",
      "   macro avg       0.56      0.54      0.51     30000\n",
      "weighted avg       0.56      0.56      0.52     30000\n",
      "\n",
      "The accuracy on the validation set is : 0.56\n"
     ]
    }
   ],
   "source": [
    "from sklearn.model_selection import train_test_split, GridSearchCV\n",
    "from sklearn.linear_model import LinearRegression, LogisticRegression, SGDClassifier\n",
    "from sklearn.ensemble import RandomForestClassifier\n",
    "from sklearn.metrics import accuracy_score, classification_report, log_loss, roc_curve, confusion_matrix, mean_squared_error\n",
    "\n",
    "parameter_grid = {\"alpha\":[1e-2, 3e-2, 1e-1, 3e-1, 1]}\n",
    "lr_l1 = GridSearchCV(SGDClassifier(penalty='l1', loss='log'), \n",
    "                            param_grid=parameter_grid,\n",
    "                            n_jobs=-1)\n",
    "lr_l1.fit(x_train, y_train)\n",
    "\n",
    "\n",
    "print(classification_report(y_valid, lr_l1.predict(x_valid)))\n",
    "print(\"The accuracy on the validation set is : {:.2f}\".format(accuracy_score(y_valid, lr_l1.predict(x_valid))))"
   ]
  },
  {
   "cell_type": "markdown",
   "metadata": {},
   "source": [
    "<span style='font-family:\"Times New Roman\"'> <span styel=''>  Accuracy fell down for this model, and it makes no sense to continue implementing it. The next approach - random forest. Random forest often demonstrates a competitive performance by creating random samples of observations and growing decision trees based on them (Hatwell, Gaber and Azad, 2020). The random forests algorithm tries to decorrelate the trees so that they learn different things about the data. It does this by selecting a random subset of variables.(Yiu, 2021)"
   ]
  },
  {
   "cell_type": "code",
   "execution_count": 44,
   "metadata": {
    "colab": {
     "base_uri": "https://localhost:8080/"
    },
    "id": "9eKF6-bNu1sL",
    "outputId": "449cebc1-cc38-4d91-b611-eca13b10f0b5"
   },
   "outputs": [
    {
     "name": "stdout",
     "output_type": "stream",
     "text": [
      "{'min_samples_leaf': 4, 'max_depth': 8}\n",
      "              precision    recall  f1-score   support\n",
      "\n",
      "           0       0.62      0.74      0.67     16175\n",
      "           1       0.60      0.46      0.52     13825\n",
      "\n",
      "    accuracy                           0.61     30000\n",
      "   macro avg       0.61      0.60      0.60     30000\n",
      "weighted avg       0.61      0.61      0.60     30000\n",
      "\n",
      "The accuracy on the validation set is : 0.61\n",
      "The loss on the validation set is : 0.65\n"
     ]
    }
   ],
   "source": [
    "from sklearn.model_selection import RandomizedSearchCV, GridSearchCV\n",
    "\n",
    "parameter_grid = {\"max_depth\":[4, 8], \"min_samples_leaf\":[4,32,64]}\n",
    "rf = RandomizedSearchCV(RandomForestClassifier(n_estimators=200), \n",
    "                            param_distributions=parameter_grid,\n",
    "                            n_jobs=-1, cv=5)\n",
    "rf.fit(x_train, y_train)\n",
    "\n",
    "\n",
    "print(rf.best_params_)\n",
    "print(classification_report(y_valid, rf.predict(x_valid)))\n",
    "print(\"The accuracy on the validation set is : {:.2f}\".format(accuracy_score(y_valid, rf.predict(x_valid))))\n",
    "print(\"The loss on the validation set is : {:.2f}\".format(log_loss(y_valid, rf.predict_proba(x_valid))))"
   ]
  },
  {
   "cell_type": "code",
   "execution_count": 45,
   "metadata": {
    "colab": {
     "base_uri": "https://localhost:8080/",
     "height": 421
    },
    "id": "quLRBOOq20cL",
    "outputId": "6b7134b4-bc37-4125-87f9-7d56ac5bf233"
   },
   "outputs": [
    {
     "data": {
      "text/plain": [
       "Text(0, 0.5, 'true positive rate')"
      ]
     },
     "execution_count": 45,
     "metadata": {},
     "output_type": "execute_result"
    },
    {
     "data": {
      "image/png": "[encoded data removed]",
      "text/plain": [
       "<Figure size 864x432 with 1 Axes>"
      ]
     },
     "metadata": {
      "needs_background": "light"
     },
     "output_type": "display_data"
    }
   ],
   "source": [
    "y_pred = rf.predict_proba(x_valid)\n",
    "y_pred_up_prod = y_pred[:, 1]\n",
    "\n",
    "y_true = (y_valid == 1).astype(int)\n",
    "\n",
    "fpr_rf, tpr_rf, threshold = metrics.roc_curve(y_true, y_pred_up_prod)\n",
    "\n",
    "plt.plot(fpr_rf, tpr_rf, label='random forest')\n",
    "plt.plot((0, 1), (0, 1), label='standard')\n",
    "plt.legend()\n",
    "plt.title(\"ROC\")\n",
    "plt.xlabel(\"false positive rate\")\n",
    "plt.ylabel(\"true positive rate\")"
   ]
  },
  {
   "cell_type": "markdown",
   "metadata": {},
   "source": [
    "<span style='font-family:\"Times New Roman\"'> <span styel=''> The accuracy of this model is higher than in the logistic model. Still,to find out if there is a way to minimize the loss of the model and to increase its accuracy, another approach will be used. It is extreme gradient booosting. Gradient boosting is a prediction model that uses an ensemble of decision trees similar to random forest. However, the decision trees are added sequentially, which is why these models are also called “Multiple Additive Regression Trees (MART)” (Friedman, Hastie and Tibshirani, 2000). Used xgboost function is still somehow different from the gradient boosting in its classical understanding. XGBoost uses the 2nd order derivative as an approximation and it uses more regularized model formalization against over-fitting."
   ]
  },
  {
   "cell_type": "code",
   "execution_count": 46,
   "metadata": {
    "collapsed": true,
    "id": "k5kHeMXNtGZq",
    "jupyter": {
     "outputs_hidden": true,
     "source_hidden": true
    }
   },
   "outputs": [
    {
     "name": "stdout",
     "output_type": "stream",
     "text": [
      "Requirement already satisfied: xgboost in /opt/anaconda3/lib/python3.8/site-packages (1.4.1)\n",
      "Requirement already satisfied: numpy in /opt/anaconda3/lib/python3.8/site-packages (from xgboost) (1.19.2)\n",
      "Requirement already satisfied: scipy in /opt/anaconda3/lib/python3.8/site-packages (from xgboost) (1.5.2)\n",
      "Note: you may need to restart the kernel to use updated packages.\n"
     ]
    }
   ],
   "source": [
    "pip install xgboost"
   ]
  },
  {
   "cell_type": "code",
   "execution_count": 47,
   "metadata": {
    "colab": {
     "base_uri": "https://localhost:8080/"
    },
    "id": "T-UJYvosxhUB",
    "outputId": "1824aff2-b807-4a52-81d8-ddeda2b4422c"
   },
   "outputs": [
    {
     "name": "stdout",
     "output_type": "stream",
     "text": [
      "Fitting 5 folds for each of 5 candidates, totalling 25 fits\n",
      "[20:58:42] WARNING: /Users/travis/build/dmlc/xgboost/src/learner.cc:573: \n",
      "Parameters: { \"silent\" } might not be used.\n",
      "\n",
      "  This may not be accurate due to some parameters are only used in language bindings but\n",
      "  passed down to XGBoost core.  Or some parameters are not used but slip through this\n",
      "  verification. Please open an issue if you find above cases.\n",
      "\n",
      "\n",
      "[20:58:42] WARNING: /Users/travis/build/dmlc/xgboost/src/learner.cc:1095: Starting in XGBoost 1.3.0, the default evaluation metric used with the objective 'binary:logistic' was changed from 'error' to 'logloss'. Explicitly set eval_metric if you'd like to restore the old behavior.\n",
      "{'subsample': 0.6, 'min_child_weight': 1, 'max_depth': 5, 'gamma': 1.5, 'colsample_bytree': 0.8}\n",
      "              precision    recall  f1-score   support\n",
      "\n",
      "           0       0.64      0.71      0.67     16175\n",
      "           1       0.61      0.53      0.57     13825\n",
      "\n",
      "    accuracy                           0.63     30000\n",
      "   macro avg       0.62      0.62      0.62     30000\n",
      "weighted avg       0.62      0.63      0.62     30000\n",
      "\n",
      "The accuracy on the validation set is : 0.63\n",
      "The loss on the validation set is : 0.64\n"
     ]
    }
   ],
   "source": [
    "#xgboost classifier\n",
    "from sklearn.model_selection import RandomizedSearchCV, GridSearchCV\n",
    "from xgboost import XGBClassifier\n",
    "\n",
    "xgb = XGBClassifier(learning_rate=0.02, n_estimators=600, objective='binary:logistic',\n",
    "                    silent=True, nthread=1)\n",
    "parameter_grid = {\n",
    "        'min_child_weight': [1, 5, 10],\n",
    "        'gamma': [0.5, 1, 1.5, 2, 5],\n",
    "        'subsample': [0.6, 0.8, 1.0],\n",
    "        'colsample_bytree': [0.6, 0.8, 1.0],\n",
    "        'max_depth': [3, 4, 5]\n",
    "        }\n",
    "\n",
    "xgc = RandomizedSearchCV(xgb, param_distributions=parameter_grid, n_iter=5, scoring='roc_auc',\n",
    "                                   n_jobs=4, verbose=3, random_state=1001 )\n",
    "\n",
    "xgc.fit(x_train, y_train)\n",
    "\n",
    "\n",
    "print(xgc.best_params_)\n",
    "print(classification_report(y_valid, xgc.predict(x_valid)))\n",
    "print(\"The accuracy on the validation set is : {:.2f}\".format(accuracy_score(y_valid, xgc.predict(x_valid))))\n",
    "print(\"The loss on the validation set is : {:.2f}\".format(log_loss(y_valid, xgc.predict_proba(x_valid))))"
   ]
  },
  {
   "cell_type": "code",
   "execution_count": 48,
   "metadata": {
    "colab": {
     "base_uri": "https://localhost:8080/",
     "height": 421
    },
    "id": "WR7b55AR7vtN",
    "outputId": "8ee59999-9494-4e6c-98db-4b05ff4fb36d"
   },
   "outputs": [
    {
     "data": {
      "image/png": "[encoded data removed]",
      "text/plain": [
       "<Figure size 864x432 with 1 Axes>"
      ]
     },
     "metadata": {
      "needs_background": "light"
     },
     "output_type": "display_data"
    }
   ],
   "source": [
    "y_pred = xgc.predict_proba(x_valid)\n",
    "y_pred_up_prod = y_pred[:, 1]\n",
    "\n",
    "y_true = (y_valid == 1).astype(int)\n",
    "\n",
    "fpr_xgb, tpr_xgb, threshold = roc_curve(y_true, y_pred_up_prod)\n",
    "\n",
    "plt.plot(fpr_xgb, tpr_xgb, label='XGboost')\n",
    "plt.plot((0, 1), (0, 1), label='standard')\n",
    "plt.legend()\n",
    "plt.title(\"ROC\")\n",
    "plt.xlabel(\"false positive rate\")\n",
    "plt.ylabel(\"true positive rate\");"
   ]
  },
  {
   "cell_type": "markdown",
   "metadata": {
    "id": "wMERLD3b2lFM"
   },
   "source": [
    "<span style='font-family:\"Times New Roman\"'> <span styel=''>  The extreme gradient boosting showed the best results with the highest accuracy of 63%. Loss slightly and insignificantly decreased comparing to the random forest model. The next step - to compare used models and to make final decision."
   ]
  },
  {
   "cell_type": "markdown",
   "metadata": {
    "id": "BOcmSNUAt2Oe"
   },
   "source": [
    "### Model selection"
   ]
  },
  {
   "cell_type": "markdown",
   "metadata": {},
   "source": [
    "<span style='font-family:\"Times New Roman\"'> <span styel=''> Several models were analysed. All, except Lasso regression, had quite high accuracy. On this step, we will build a ROC curve for 3 models and will see which one brings us the best result."
   ]
  },
  {
   "cell_type": "code",
   "execution_count": 49,
   "metadata": {
    "colab": {
     "base_uri": "https://localhost:8080/",
     "height": 367
    },
    "id": "O3VdSyqlt1i0",
    "outputId": "706710e6-8dc2-4626-9441-c72e7d669aef"
   },
   "outputs": [
    {
     "data": {
      "text/plain": [
       "Text(0, 0.5, 'true positive rate')"
      ]
     },
     "execution_count": 49,
     "metadata": {},
     "output_type": "execute_result"
    },
    {
     "data": {
      "image/png": "[encoded data removed]",
      "text/plain": [
       "<Figure size 720x360 with 1 Axes>"
      ]
     },
     "metadata": {
      "needs_background": "light"
     },
     "output_type": "display_data"
    }
   ],
   "source": [
    "plt.figure(figsize=(10,5))\n",
    "plt.plot(fpr_rf, tpr_rf, label='random forest ')\n",
    "plt.plot(fpr_lr, tpr_lr, label='logistic regression')\n",
    "plt.plot(fpr_xgb, tpr_xgb, label='xgboost')\n",
    "\n",
    "plt.plot((0, 1), (0, 1), label='standard')\n",
    "plt.legend()\n",
    "plt.title(\"ROC for positive return\")\n",
    "plt.xlabel(\"false positive rate\")\n",
    "plt.ylabel(\"true positive rate\")"
   ]
  },
  {
   "cell_type": "markdown",
   "metadata": {
    "id": "ADecun5etGZr"
   },
   "source": [
    "<span style='font-family:\"Times New Roman\"'> <span styel=''> It was written above but it is worth repeating. The closer the ROC curve get to the top left corner, the better the test is overall. The closer the curve comes to the center diagonal line, the worse the test. XGBoost is a green line that is the closest to the left corner. That's why, this model was chosen for the further prediction. \n"
   ]
  },
  {
   "cell_type": "markdown",
   "metadata": {
    "id": "WOeAEfE7tGZr"
   },
   "source": [
    "### V. Model evaluation"
   ]
  },
  {
   "cell_type": "markdown",
   "metadata": {},
   "source": [
    "<span style='font-family:\"Times New Roman\"'> <span styel=''> The unknown data set was used and treated with the same preparation approaches earlier. At the end, we have this file."
   ]
  },
  {
   "cell_type": "code",
   "execution_count": 50,
   "metadata": {
    "id": "ierPQJzFtGZs",
    "outputId": "db2b9a1a-edfd-4872-8987-0ccecce39cd5"
   },
   "outputs": [
    {
     "data": {
      "text/html": [
       "<div>\n",
       "<style scoped>\n",
       "    .dataframe tbody tr th:only-of-type {\n",
       "        vertical-align: middle;\n",
       "    }\n",
       "\n",
       "    .dataframe tbody tr th {\n",
       "        vertical-align: top;\n",
       "    }\n",
       "\n",
       "    .dataframe thead th {\n",
       "        text-align: right;\n",
       "    }\n",
       "</style>\n",
       "<table border=\"1\" class=\"dataframe\">\n",
       "  <thead>\n",
       "    <tr style=\"text-align: right;\">\n",
       "      <th></th>\n",
       "      <th>order_item_id</th>\n",
       "      <th>item_id</th>\n",
       "      <th>brand_id</th>\n",
       "      <th>item_price</th>\n",
       "      <th>user_id</th>\n",
       "      <th>user_age</th>\n",
       "      <th>days_delivery</th>\n",
       "      <th>order_month</th>\n",
       "    </tr>\n",
       "  </thead>\n",
       "  <tbody>\n",
       "    <tr>\n",
       "      <th>0</th>\n",
       "      <td>100001</td>\n",
       "      <td>1591</td>\n",
       "      <td>9</td>\n",
       "      <td>69.87500</td>\n",
       "      <td>56943</td>\n",
       "      <td>53</td>\n",
       "      <td>22.0</td>\n",
       "      <td>10</td>\n",
       "    </tr>\n",
       "    <tr>\n",
       "      <th>1</th>\n",
       "      <td>100002</td>\n",
       "      <td>1589</td>\n",
       "      <td>11</td>\n",
       "      <td>69.87500</td>\n",
       "      <td>56943</td>\n",
       "      <td>53</td>\n",
       "      <td>22.0</td>\n",
       "      <td>10</td>\n",
       "    </tr>\n",
       "    <tr>\n",
       "      <th>2</th>\n",
       "      <td>100003</td>\n",
       "      <td>1589</td>\n",
       "      <td>11</td>\n",
       "      <td>69.87500</td>\n",
       "      <td>56943</td>\n",
       "      <td>53</td>\n",
       "      <td>22.0</td>\n",
       "      <td>10</td>\n",
       "    </tr>\n",
       "    <tr>\n",
       "      <th>3</th>\n",
       "      <td>100004</td>\n",
       "      <td>1776</td>\n",
       "      <td>41</td>\n",
       "      <td>49.90625</td>\n",
       "      <td>56943</td>\n",
       "      <td>53</td>\n",
       "      <td>22.0</td>\n",
       "      <td>10</td>\n",
       "    </tr>\n",
       "    <tr>\n",
       "      <th>4</th>\n",
       "      <td>100005</td>\n",
       "      <td>2140</td>\n",
       "      <td>102</td>\n",
       "      <td>59.90625</td>\n",
       "      <td>56943</td>\n",
       "      <td>53</td>\n",
       "      <td>22.0</td>\n",
       "      <td>10</td>\n",
       "    </tr>\n",
       "  </tbody>\n",
       "</table>\n",
       "</div>"
      ],
      "text/plain": [
       "   order_item_id  item_id  brand_id  item_price  user_id  user_age  \\\n",
       "0         100001     1591         9    69.87500    56943        53   \n",
       "1         100002     1589        11    69.87500    56943        53   \n",
       "2         100003     1589        11    69.87500    56943        53   \n",
       "3         100004     1776        41    49.90625    56943        53   \n",
       "4         100005     2140       102    59.90625    56943        53   \n",
       "\n",
       "   days_delivery  order_month  \n",
       "0           22.0           10  \n",
       "1           22.0           10  \n",
       "2           22.0           10  \n",
       "3           22.0           10  \n",
       "4           22.0           10  "
      ]
     },
     "execution_count": 50,
     "metadata": {},
     "output_type": "execute_result"
    }
   ],
   "source": [
    "data_unknown.head()"
   ]
  },
  {
   "cell_type": "markdown",
   "metadata": {},
   "source": [
    " By making the prediction, we use the data se and let's make the prediction on the unknown data. For this unknown variables will be used."
   ]
  },
  {
   "cell_type": "code",
   "execution_count": 51,
   "metadata": {
    "id": "lf37K4PutGZs"
   },
   "outputs": [],
   "source": [
    "y_pred = rf.predict_proba(data_unknown[['item_id','brand_id','item_price','user_id','user_age','days_delivery','order_month']])\n",
    "y_pred_up_prod = y_pred[:, 1]"
   ]
  },
  {
   "cell_type": "code",
   "execution_count": 52,
   "metadata": {
    "id": "zgAciO6WtGZt"
   },
   "outputs": [],
   "source": [
    "from IPython.display import FileLink\n",
    "# Import a module to delete the file\n",
    "import os\n",
    "def csv_download(df, csv_file_name, delete_prompt=True):\n",
    "    df.to_csv(csv_file_name, index=False)\n",
    "    display(FileLink(csv_file_name))\n",
    "    if delete_prompt:\n",
    "        a = input('Here is the file.')\n",
    "        os.remove(csv_file_name)"
   ]
  },
  {
   "cell_type": "code",
   "execution_count": null,
   "metadata": {
    "id": "HVmhJopNtGZt",
    "outputId": "02d8050d-e449-44b4-b987-9a3350a8ebed"
   },
   "outputs": [
    {
     "name": "stdout",
     "output_type": "stream",
     "text": [
      "/Users/sofyakonchakova/Desktop/Jupyter notebooks for tutorials and execises-20210402\n"
     ]
    },
    {
     "data": {
      "text/html": [
       "<a href='612933_prediction.csv' target='_blank'>612933_prediction.csv</a><br>"
      ],
      "text/plain": [
       "/Users/sofyakonchakova/Desktop/Jupyter notebooks for tutorials and execises-20210402/612933_prediction.csv"
      ]
     },
     "metadata": {},
     "output_type": "display_data"
    }
   ],
   "source": [
    "import csv\n",
    "import os\n",
    "print (os.getcwd())\n",
    "file_1 = \"example_prediction.csv\"\n",
    "submission = pd.read_csv(file_1)\n",
    "submission.head()\n",
    "submission['return']=y_pred_up_prod\n",
    "submission_proba=submission\n",
    "\n",
    "submission['return']=submission['return'].apply(lambda x: \"0\" if x < 0.47 else \"1\")\n",
    "csv_download(submission, '612933_prediction.csv')"
   ]
  },
  {
   "cell_type": "markdown",
   "metadata": {},
   "source": [
    "## <span style='font-family:\"Times New Roman\"'> <span styel=''> References\n",
    "<span style='font-family:\"Times New Roman\"'> <span styel=''> 1. Abdallah, Z. and Webb, G., 2017. Data Preparation. Encyclopedia of Machine Learning and Data Mining.\n",
    "\n",
    "<span style='font-family:\"Times New Roman\"'> <span styel=''> 2. Aismartz.com. 2019. Why EDA is Crucial for Any Data Science Project? AISmartz. [online] Available at: <https://www.aismartz.com/blog/why-eda-is-crucial-for-any-data-science-project/> [Accessed 5 March 2021].\n",
    "\n",
    "<span style='font-family:\"Times New Roman\"'> <span styel=''> 3. Ben-Zvi, D., Garfield, J. and Ben-Zvi, D., 2004. The Challenge of Developing Statistical Literacy, Reasoning And Thinking. 1st ed. Springer Netherlands, pp.121-145.\n",
    "\n",
    "<span style='font-family:\"Times New Roman\"'> <span styel=''> 4. Friedman, J., Hastie, T. and Tibshirani, R., 2000. Additive logistic regression: a statistical view of boosting (With discussion and a rejoinder by the authors). The Annals of Statistics, 28(2).\n",
    "\n",
    "<span style='font-family:\"Times New Roman\"'> <span styel=''> 5. Hatwell, J., Gaber, M. and Azad, R., 2020. CHIRPS: Explaining random forest classification. Artificial Intelligence Review, 53(8), pp.5747-5788.\n",
    "\n",
    "<span style='font-family:\"Times New Roman\"'> <span styel=''> 6. Jeevan, M., 2015. 30 tweetable quotes about Data Science. [online] Big Data Made Simple. Available at: <https://bigdata-madesimple.com/30-tweetable-quotes-data-science/> [Accessed 7 April 2021].\n",
    "\n",
    "<span style='font-family:\"Times New Roman\"'> <span styel=''> 7. Yiu, T., 2021. Understanding Random Forest. [online] Medium. Available at: <https://towardsdatascience.com/understanding-random-forest-58381e0602d2> [Accessed 16 April 2021]."
   ]
  }
 ],
 "metadata": {
  "colab": {
   "collapsed_sections": [],
   "name": "latest (1).ipynb",
   "provenance": [],
   "toc_visible": true
  },
  "kernelspec": {
   "display_name": "Python 3",
   "language": "python",
   "name": "python3"
  },
  "language_info": {
   "codemirror_mode": {
    "name": "ipython",
    "version": 3
   },
   "file_extension": ".py",
   "mimetype": "text/x-python",
   "name": "python",
   "nbconvert_exporter": "python",
   "pygments_lexer": "ipython3",
   "version": "3.8.3"
  }
 },
 "nbformat": 4,
 "nbformat_minor": 4
}
